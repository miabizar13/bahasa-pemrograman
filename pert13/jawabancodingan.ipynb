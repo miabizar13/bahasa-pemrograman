{
 "cells": [
  {
   "cell_type": "code",
   "execution_count": null,
   "metadata": {},
   "outputs": [],
   "source": [
    "## Membuat Skema Database\n",
    "import sqlite3\n",
    "\n",
    "def init_db():\n",
    "    conn = sqlite3.connect('database.db')\n",
    "    cursor = conn.cursor()\n",
    "\n",
    "    cursor.execute('''\n",
    "        CREATE TABLE IF NOT EXISTS laporan (\n",
    "            id INTEGER PRIMARY KEY AUTOINCREMENT,\n",
    "            nama_pelapor TEXT NOT NULL,\n",
    "            tema_laporan TEXT NOT NULL,\n",
    "            jam_pelaksanaan TEXT NOT NULL,\n",
    "            isi_laporan TEXT NOT NULL\n",
    "        )\n",
    "    ''')\n",
    "\n",
    "    conn.commit()\n",
    "    conn.close()\n",
    "\n",
    "if __name__ == '__main__':\n",
    "    init_db()"
   ]
  },
  {
   "cell_type": "code",
   "execution_count": null,
   "metadata": {},
   "outputs": [],
   "source": [
    "## program aplikasi\n",
    "import sqlite3\n",
    "from flask import Flask, request, jsonify\n",
    "\n",
    "app = Flask(__name__)\n",
    "\n",
    "@app.route('/add_report', methods=['POST'])\n",
    "def add_report():\n",
    "    data = request.get_json()\n",
    "\n",
    "    nama_pelapor = data['nama_pelapor']\n",
    "    tema_laporan = data['tema_laporan']\n",
    "    jam_pelaksanaan = data['jam_pelaksanaan']\n",
    "    isi_laporan = data['isi_laporan']\n",
    "\n",
    "    conn = sqlite3.connect('database.db')\n",
    "    cursor = conn.cursor()\n",
    "    cursor.execute('''\n",
    "        INSERT INTO laporan (nama_pelapor, tema_laporan, jam_pelaksanaan, isi_laporan)\n",
    "        VALUES (?, ?, ?, ?)\n",
    "    ''', (nama_pelapor, tema_laporan, jam_pelaksanaan, isi_laporan))\n",
    "\n",
    "    conn.commit()\n",
    "    conn.close()\n",
    "\n",
    "    return jsonify({'message': 'Laporan berhasil ditambahkan'}), 201\n",
    "\n",
    "@app.route('/reports', methods=['GET'])\n",
    "def get_reports():\n",
    "    conn = sqlite3.connect('database.db')\n",
    "    cursor = conn.cursor()\n",
    "    cursor.execute('SELECT * FROM laporan')\n",
    "    reports = cursor.fetchall()\n",
    "    conn.close()\n",
    "\n",
    "    return jsonify(reports)\n",
    "\n",
    "if __name__ == '__main__':\n",
    "    app.run(host='0.0.0.0', port=5000)"
   ]
  },
  {
   "cell_type": "code",
   "execution_count": null,
   "metadata": {},
   "outputs": [],
   "source": [
    "## requirements.txt\n",
    "flask"
   ]
  }
 ],
 "metadata": {
  "language_info": {
   "name": "python"
  }
 },
 "nbformat": 4,
 "nbformat_minor": 2
}
