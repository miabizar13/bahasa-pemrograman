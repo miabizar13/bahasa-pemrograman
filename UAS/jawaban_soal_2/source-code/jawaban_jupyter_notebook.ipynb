{
 "cells": [
  {
   "cell_type": "markdown",
   "metadata": {},
   "source": [
    "Exception Handling pada Python merupakan suatu proses penyelesaian error yang terjadi pada suatu program. Hal ini melibatkan menangkap pengecualian, memahami penyebabnya, dan kemudian memberikan respons yang sesuai. Exception Handling memungkinkan program untuk terus mengeksekusi meskipun terjadi kesalahan.\n",
    "\n",
    "Contoh:"
   ]
  },
  {
   "cell_type": "code",
   "execution_count": 1,
   "metadata": {},
   "outputs": [
    {
     "name": "stdout",
     "output_type": "stream",
     "text": [
      "Error: Pembagian oleh Nol tidak diizinkan\n",
      "Selesai\n"
     ]
    }
   ],
   "source": [
    "try:\n",
    "   hasil = 10/0\n",
    "except ZeroDivisionError:\n",
    "   print(\"Error: Pembagian oleh Nol tidak diizinkan\")\n",
    "else:\n",
    "   print(\"Hasil Pembagian:\", hasil)\n",
    "finally:\n",
    "   print(\"Selesai\")"
   ]
  }
 ],
 "metadata": {
  "kernelspec": {
   "display_name": "Python 3",
   "language": "python",
   "name": "python3"
  },
  "language_info": {
   "codemirror_mode": {
    "name": "ipython",
    "version": 3
   },
   "file_extension": ".py",
   "mimetype": "text/x-python",
   "name": "python",
   "nbconvert_exporter": "python",
   "pygments_lexer": "ipython3",
   "version": "3.10.12"
  }
 },
 "nbformat": 4,
 "nbformat_minor": 2
}
